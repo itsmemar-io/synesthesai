{
 "cells": [
  {
   "cell_type": "markdown",
   "metadata": {},
   "source": [
    "Import lyricsgenius package to use the genius API and give client access token\n",
    "\n",
    "Website: https://genius.com/api-clients"
   ]
  },
  {
   "cell_type": "code",
   "execution_count": 36,
   "metadata": {},
   "outputs": [],
   "source": [
    "import lyricsgenius\n",
    "genius = lyricsgenius.Genius('e5i9OlrQ5Lqnr61vZL8zXQdLN1njsen4ZxQ4GFpcPyyHi5GX67uUWIb2ch5yCwGX')"
   ]
  },
  {
   "cell_type": "markdown",
   "metadata": {},
   "source": [
    "Query for songs for a particular Artist"
   ]
  },
  {
   "cell_type": "code",
   "execution_count": 37,
   "metadata": {},
   "outputs": [
    {
     "name": "stdout",
     "output_type": "stream",
     "text": [
      "Searching for songs by Taylor Swift...\n",
      "\n",
      "\"1989 [Booklet]\" is not valid. Skipping.\n",
      "\"1989 Interview with Paul McGuire\" is not valid. Skipping.\n",
      "\"1989 [Liner Notes]\" is not valid. Skipping.\n",
      "\"1989 Tour Setlist\" is not valid. Skipping.\n",
      "Song 1: \"1989 World Tour Costumes\"\n",
      "Song 2: \"1989 World Tour Dates\"\n",
      "Song 3: \"2021 BRIT Global Icon Award Speech\"\n",
      "\n",
      "Reached user-specified song limit (3).\n",
      "Done. Found 3 songs.\n"
     ]
    },
    {
     "data": {
      "text/plain": [
       "[Song(id, artist, ...), Song(id, artist, ...), Song(id, artist, ...)]"
      ]
     },
     "execution_count": 37,
     "metadata": {},
     "output_type": "execute_result"
    }
   ],
   "source": [
    "artist = genius.search_artist(\"Taylor Swift\", max_songs=3, sort=\"title\", include_features=True)\n",
    "artist.songs"
   ]
  },
  {
   "cell_type": "code",
   "execution_count": 43,
   "metadata": {},
   "outputs": [
    {
     "name": "stdout",
     "output_type": "stream",
     "text": [
      "Searching for \"Hawai\" by Maluma...\n",
      "Done.\n"
     ]
    },
    {
     "data": {
      "text/plain": [
       "'Hawái Lyrics[Letra de \"Hawái\"]\\n\\n[Intro]\\nDeja de mentirte (Ah)\\nLa foto que subiste con él diciendo que era tu cielo\\nBebé, yo\\u2005te\\u2005conozco tan bien,\\u2005sé que fue pa\\' darme celos\\nNo\\u2005te diré quién, pero llorando por mí te vieron\\nPor mí te vieron\\n\\n[Pre-Coro]\\nDéjame decirte\\nSe ve que él te trata bien, que es todo un caballero\\nPero eso no cambiará que yo llegué primero\\nSé que te va ir bien, pero no te quiere como yo te quiero\\n[Coro]\\nPuede que no te haga falta na\\', aparentemente na\\'\\nHawái de vacaciones, mis felicitaciones\\nMuy lindo en Instagram lo que posteas\\nPa\\' que yo vea cómo te va, pa\\' que yo vea\\nPuede que no te haga falta na\\', aparentemente na\\'\\nHawái de vacaciones, mis felicitaciones\\nMuy lindo en Instagram lo que posteas\\nPa\\' que yo vea cómo te va de bien, pero te haces mal\\nPorque el amor no se compra con na\\'\\n\\n[Verso]\\nMiéntele a todos tus seguidore\\'\\nDile que los tiempo\\' de ahora son mejore\\'\\nNo creo que cuando te llame me ignores\\nSi después de mí ya no habrán más amores\\nTú y yo fuimo\\' uno\\nLo hacíamo\\' en ayuna\\' antes del desayuno\\nFumábamo\\' la hookah y te pasaba el humo\\nY ahora en esta guerra no gana ninguno\\nSi me preguntas, nadie tiene culpa\\nA vece\\' los problemas a uno se le juntan\\nDéjame hablar, porfa, no me interrumpas\\nSi te hice algo malo, entonces discúlpame\\nLa gente te lo va a creer, actúas bien ese papel\\nBaby, pero no eres feliz con él\\n[Coro]\\nPuede que no te haga falta na\\', aparentemente na\\'\\nHawái de vacaciones, mis felicitaciones\\nMuy lindo en Instagram lo que posteas\\nPa\\' que yo vea cómo te va, pa\\' que yo vea\\nPuede que no te haga falta na\\', aparentemente na\\'\\nHawái de vacaciones, mis felicitaciones\\nMuy lindo en Instagram lo que posteas\\nPa\\' que yo vea cómo te va de bien, pero te haces mal\\nPorque el amor no se compra con na\\'\\n\\n[Outro]\\n(Deja de mentirte)\\n(La foto que subiste con él diciendo que era tu cielo)\\nMamacita\\n(Bebé, yo te conozco tan bien, sé que fue pa\\' darme celos)\\nMaluma, baby\\n(No te diré quién, pero llorando por mí te vieron)\\nJajajaja\\n(Por mí te vieron)\\nPapi Juancho18Embed'"
      ]
     },
     "execution_count": 43,
     "metadata": {},
     "output_type": "execute_result"
    }
   ],
   "source": [
    "#Query for specific song\n",
    "song = genius.search_song(\"Hawai\", \"Maluma\") #(Song, Artist)\n",
    "song.lyrics"
   ]
  },
  {
   "cell_type": "code",
   "execution_count": null,
   "metadata": {},
   "outputs": [],
   "source": []
  }
 ],
 "metadata": {
  "interpreter": {
   "hash": "e80a543ecfb65aca7ee063d5895c7c6a09395ebd748c9a51dbc58e1a08c2a31e"
  },
  "kernelspec": {
   "display_name": "Python 3.8.12 64-bit ('synesthesai')",
   "language": "python",
   "name": "python3"
  },
  "language_info": {
   "codemirror_mode": {
    "name": "ipython",
    "version": 3
   },
   "file_extension": ".py",
   "mimetype": "text/x-python",
   "name": "python",
   "nbconvert_exporter": "python",
   "pygments_lexer": "ipython3",
   "version": "3.8.12"
  },
  "orig_nbformat": 4
 },
 "nbformat": 4,
 "nbformat_minor": 2
}
