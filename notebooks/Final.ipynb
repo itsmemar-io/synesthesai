{
 "cells": [
  {
   "cell_type": "code",
   "execution_count": 128,
   "id": "a9609c12-51bf-4f8b-81dc-5d921fe4280a",
   "metadata": {},
   "outputs": [],
   "source": [
    "import spotipy\n",
    "import string\n",
    "from spotipy.oauth2 import SpotifyClientCredentials\n",
    "import requests\n",
    "from googletrans import Translator\n",
    "import re\n",
    "from nltk.corpus import stopwords\n",
    "from nltk.cluster.util import cosine_distance\n",
    "import numpy as np\n",
    "import networkx as nx"
   ]
  },
  {
   "cell_type": "code",
   "execution_count": 129,
   "id": "f488e4eb-a8c2-4752-9d6e-a7ffd443457b",
   "metadata": {},
   "outputs": [],
   "source": [
    "def musixmatch_api(name, artist):\n",
    "    musixmatch_key = 'e3aaefc9e200cd82edcea97d33eeaf65'\n",
    "    try:\n",
    "        url = f'https://api.musixmatch.com/ws/1.1/track.search?q_artist={artist}&q_track={name}&apikey={musixmatch_key}'\n",
    "        response = requests.get(url=url).json()\n",
    "        track_id = response['message']['body']['track_list'][0]['track']['track_id']\n",
    "        url_track_id = f\"https://api.musixmatch.com/ws/1.1/track.lyrics.get?track_id={track_id}&apikey={musixmatch_key}\"\n",
    "        response_lyrics = requests.get(url=url_track_id).json()\n",
    "        lyrics = response_lyrics['message']['body']['lyrics']['lyrics_body']\n",
    "        lyrics_clean = lyrics.split('\\n...')[0].replace(\"\\n\", \". \")\n",
    "        translator = Translator() \n",
    "        translation = translator.translate(lyrics_clean).text.replace(\" . \", \"\").replace(\" .\", \"\")\n",
    "        return translation\n",
    "    except:\n",
    "        return 0"
   ]
  },
  {
   "cell_type": "code",
   "execution_count": 150,
   "id": "49fb2324-e140-43d3-a078-96919703a91a",
   "metadata": {},
   "outputs": [],
   "source": [
    "def clean_lyrics(lyrics):\n",
    "    pattern = r'\\.\\S'\n",
    "    matches = re.findall(pattern,lyrics)\n",
    "    if matches:\n",
    "        for match in matches:\n",
    "            temp_list = list(match)\n",
    "            temp_list.insert(1,\" \")\n",
    "            to_replace = \"\".join(temp_list)\n",
    "            lyrics = lyrics.replace(match, to_replace)\n",
    "        \n",
    "    ignore = ',.:;?!\\''\n",
    "    for char in string.punctuation:\n",
    "        if char not in ignore:\n",
    "            lyrics = lyrics.replace(char, ' ') # Remove Punctuation\n",
    "    lyrics = re.sub(r'\\r\\n', '. ', lyrics)\n",
    "    lyrics = re.sub(r'\\n', '. ', lyrics)\n",
    "    lyrics = lyrics.replace('  ', ' ')\n",
    "        \n",
    "    return lyrics"
   ]
  },
  {
   "cell_type": "code",
   "execution_count": 163,
   "id": "748b9260-c80a-4d15-868a-a1623ae3b8e0",
   "metadata": {},
   "outputs": [],
   "source": [
    "def read_text(text):\n",
    "    filedata = text\n",
    "    article = filedata.split(\". \")\n",
    "    sentences = []\n",
    "\n",
    "    for sentence in article:\n",
    "        sentences.append(sentence.replace(\"[^a-zA-Z]\", \" \").split(\" \"))\n",
    "    sentences.pop() \n",
    "    \n",
    "    return article\n",
    "\n",
    "def sentence_similarity(sent1, sent2, stopwords=None):\n",
    "    if stopwords is None:\n",
    "        stopwords = []\n",
    " \n",
    "    sent1 = [w.lower() for w in sent1]\n",
    "    sent2 = [w.lower() for w in sent2]\n",
    " \n",
    "    all_words = list(set(sent1 + sent2))\n",
    " \n",
    "    vector1 = [0] * len(all_words)\n",
    "    vector2 = [0] * len(all_words)\n",
    " \n",
    "    # build the vector for the first sentence\n",
    "    for w in sent1:\n",
    "        if w in stopwords:\n",
    "            continue\n",
    "        vector1[all_words.index(w)] += 1\n",
    " \n",
    "    # build the vector for the second sentence\n",
    "    for w in sent2:\n",
    "        if w in stopwords:\n",
    "            continue\n",
    "        vector2[all_words.index(w)] += 1\n",
    " \n",
    "    return 1 - cosine_distance(vector1, vector2)\n",
    "def build_similarity_matrix(sentences, stop_words):\n",
    "    # Create an empty similarity matrix\n",
    "    similarity_matrix = np.zeros((len(sentences), len(sentences)))\n",
    " \n",
    "    for idx1 in range(len(sentences)):\n",
    "        for idx2 in range(len(sentences)):\n",
    "            if idx1 == idx2: #ignore if both are same sentences\n",
    "                continue \n",
    "            similarity_matrix[idx1][idx2] = sentence_similarity(sentences[idx1], sentences[idx2], stop_words)\n",
    "\n",
    "    return similarity_matrix\n",
    "\n",
    "\n",
    "def generate_summary(text, top_n=1):\n",
    "    stop_words = stopwords.words('english')\n",
    "    summarize_text = []\n",
    "\n",
    "    #Read text and split it\n",
    "    sentences =  read_text(text)\n",
    "\n",
    "    #Generate Similary Martix across sentences\n",
    "    sentence_similarity_martix = build_similarity_matrix(sentences, stop_words)\n",
    "\n",
    "    #Rank sentences in similarity martix\n",
    "    sentence_similarity_graph = nx.from_numpy_array(sentence_similarity_martix)\n",
    "    scores = nx.pagerank(sentence_similarity_graph)\n",
    "\n",
    "    #Sort the rank and pick top sentences\n",
    "    ranked_sentence = sorted(((scores[i],s) for i,s in enumerate(sentences)), reverse=True)    \n",
    "\n",
    "    for i in range(top_n):\n",
    "        summarize_text.append(\"\".join(ranked_sentence[i][1]))\n",
    "\n",
    "    return \"\".join(summarize_text)"
   ]
  },
  {
   "cell_type": "code",
   "execution_count": 166,
   "id": "9f19aba9-8ac3-49f8-984b-90509b5509a2",
   "metadata": {},
   "outputs": [],
   "source": [
    "def lyrics(spotify_track_uri):\n",
    "    spotify_client_id = '8082fc33d8584af9ba70f63656416be0'\n",
    "    spotify_client_secret = '05a8d68d55544585b59341715856052f'\n",
    "    spotify_track_id = spotify_track_uri.replace('spotify:track:','')\n",
    "    token = SpotifyClientCredentials(client_id=spotify_client_id, client_secret=spotify_client_secret).get_access_token()['access_token']\n",
    "    sp = spotipy.Spotify(token)\n",
    "    meta = sp.track(spotify_track_id)\n",
    "    name = meta['name']\n",
    "    artist = meta['album']['artists'][0]['name']\n",
    "    \n",
    "    lyrics = musixmatch_api(name, artist)\n",
    "    \n",
    "    if lyrics:\n",
    "        lyrics_clean = clean_lyrics(lyrics)\n",
    "        summary = generate_summary(lyrics_clean)\n",
    "    \n",
    "        return {'summary':summary, 'clean_lyrics': lyrics_clean}\n",
    "    else:\n",
    "        return 0"
   ]
  },
  {
   "cell_type": "code",
   "execution_count": 167,
   "id": "462183fe-a884-4f62-91a1-f3c0537fce59",
   "metadata": {},
   "outputs": [
    {
     "name": "stderr",
     "output_type": "stream",
     "text": [
      "/var/folders/1n/c5yx03ds5xl_p47vgtkzd8wm0000gn/T/ipykernel_5863/454084942.py:5: DeprecationWarning: You're using 'as_dict = True'.get_access_token will return the token string directly in future versions. Please adjust your code accordingly, or use get_cached_token instead.\n",
      "  token = SpotifyClientCredentials(client_id=spotify_client_id, client_secret=spotify_client_secret).get_access_token()['access_token']\n"
     ]
    },
    {
     "data": {
      "text/plain": [
       "{'summary': \"I've been too long I'm glad to be back Yes, I'm let loose\",\n",
       " 'clean_lyrics': \"Back in black. I hit the sack. I've been too long I'm glad to be back Yes, I'm let loose. From the noose. That's kept me hanging about. I've been looking at the sky. 'Cause it's gettin' me high. Forget the hearse 'cause I never die. I got nine lives. Cat's eyes. Abusin' every one of them and running wild. 'Cause I'm back. Yes, I'm back. Well, I'm back. Yes, I'm back. Well, I'm back, back. Well I'm back in black\"}"
      ]
     },
     "execution_count": 167,
     "metadata": {},
     "output_type": "execute_result"
    }
   ],
   "source": [
    "lyrics(\"spotify:track:08mG3Y1vljYA6bvDt4Wqkj\")"
   ]
  },
  {
   "cell_type": "code",
   "execution_count": null,
   "id": "b1793615-b067-49ae-837b-fe63be9a6a02",
   "metadata": {},
   "outputs": [],
   "source": []
  }
 ],
 "metadata": {
  "kernelspec": {
   "display_name": "Python 3 (ipykernel)",
   "language": "python",
   "name": "python3"
  },
  "language_info": {
   "codemirror_mode": {
    "name": "ipython",
    "version": 3
   },
   "file_extension": ".py",
   "mimetype": "text/x-python",
   "name": "python",
   "nbconvert_exporter": "python",
   "pygments_lexer": "ipython3",
   "version": "3.8.12"
  }
 },
 "nbformat": 4,
 "nbformat_minor": 5
}
